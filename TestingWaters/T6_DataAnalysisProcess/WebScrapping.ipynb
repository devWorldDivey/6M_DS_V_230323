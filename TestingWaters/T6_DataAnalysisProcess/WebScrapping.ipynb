{
 "cells": [
  {
   "cell_type": "code",
   "execution_count": 54,
   "metadata": {},
   "outputs": [],
   "source": [
    "import numpy as np\n",
    "import pandas as pd\n",
    "import requests\n",
    "from bs4 import BeautifulSoup\n",
    "import time\n",
    "from datetime import timedelta"
   ]
  },
  {
   "cell_type": "code",
   "execution_count": 55,
   "metadata": {},
   "outputs": [
    {
     "data": {
      "text/plain": [
       "<Response [403]>"
      ]
     },
     "execution_count": 55,
     "metadata": {},
     "output_type": "execute_result"
    }
   ],
   "source": [
    "# hit \"www.ambitionbox.com/list-of-companies\"\n",
    "requests.get(\"https://www.ambitionbox.com/list-of-companies?page=1\")"
   ]
  },
  {
   "cell_type": "code",
   "execution_count": 56,
   "metadata": {},
   "outputs": [
    {
     "data": {
      "text/plain": [
       "'<HTML><HEAD>\\n<TITLE>Access Denied</TITLE>\\n</HEAD><BODY>\\n<H1>Access Denied</H1>\\n \\nYou don\\'t have permission to access \"http&#58;&#47;&#47;www&#46;ambitionbox&#46;com&#47;list&#45;of&#45;companies&#63;\" on this server.<P>\\nReference&#32;&#35;18&#46;b76ed917&#46;1682779914&#46;71ad32c\\n</BODY>\\n</HTML>\\n'"
      ]
     },
     "execution_count": 56,
     "metadata": {},
     "output_type": "execute_result"
    }
   ],
   "source": [
    "# webpage's robot.txt doesn't allow bots!\n",
    "requests.get(\"https://www.ambitionbox.com/list-of-companies?page=1\").text"
   ]
  },
  {
   "cell_type": "code",
   "execution_count": 57,
   "metadata": {},
   "outputs": [],
   "source": [
    "# google chrome browser's request header (to make it look like, we are making this request from a browser)\n",
    "header = {\n",
    "    \"User-Agent\": \"Mozilla/5.0 (Windows NT 10.0; Win64; x64) AppleWebKit/537.36 (KHTML, like Gecko) Chrome/80.0.3987.163 Safari/537.36\"\n",
    "}"
   ]
  },
  {
   "cell_type": "code",
   "execution_count": 102,
   "metadata": {},
   "outputs": [
    {
     "data": {
      "text/plain": [
       "'\\n\\n<!DOCTYPE html>\\n<html>\\n  <head>\\n    <meta charset=\"utf-8\">\\n    <meta name=\"viewport\" content=\"width=device-width, initial-scale=1, shrink-to-fit=no\">\\n    <meta http-equiv=\"refresh\" content=\"5; URL=\\'/list-of-companies?page=1&bm-verify=AAQAAAAH_____ytOEIs7kjRIsszAHgL1zycs87RKBdo10cWxIK85L5YYV93gsahKeddEQX4gOjqR_C9B1Tv9jkL4vHsn2FF3YEm7A8gCFT275cxXS_WksgpPeeXhLVvb7qVTKvkERnspNaFPPMvHqCi0oQB28RmwSdfdCRrtN5ISziPU52SB36kC8-semm5Gz4wXlZzbn7xDknJcPXBZCjRM4MCU1sMwAzZGeHZKeoV7C81cT6XJQRECcovuziurcZM9RiXeHj8QwO2unAqFWv-zE1FzVikG8jYwXZN1Ow\\'\" />\\n    <title>&nbsp;</title>\\n    <script>\\n        var i = 1682781072;\\n        var j = i + Number(\"8243\" + \"14591\");\\n    </script>\\n  </head>\\n    <noscript>\\n      <iframe style=\"border: none; height: 100%; width: 100%;\" src=\"\"></iframe>\\n    </noscript>\\n    <script>\\n          var xhr = new XMLHttpRequest();\\n          xhr.withCredentials = true;\\n          xhr.addEventListener(\"loadend\", function() {\\n              try {\\n                  var data = JSON.parse(xhr.responseText);\\n                  if (data.hasOwnProperty(\\'reload\\')) {\\n                      if (data[\"reload\"] == true) {\\n                        window.location.replace(window.location.href.replace(/[&?]bm-verify=[^#]*/, \"\"));\\n                        if(window.location.hash){\\n                          window.location.reload();\\n                        }\\n                      }\\n                  } else if (data.hasOwnProperty(\\'location\\')) {\\n                      window.location.replace(data[\"location\"]);\\n\\n                  } else {\\n                      window.location.reload();\\n                  }\\n              } catch (e) {\\n                  var data = {}\\n                  window.location.reload();\\n              }\\n          });\\n          xhr.open(\"POST\", \"/_sec/verify?provider=interstitial\", false);\\n          xhr.setRequestHeader(\"Content-Type\", \"application/json\");\\n          xhr.send(JSON.stringify({\\n              \"bm-verify\": \"AAQAAAAH/////71DXn0xVbV+GI/SVQAt2wg8Zo57oCMcnyH6GXyHhz6G518zyLukX82jcKO8p6GUzfhkj8QqivNuo+bddFSqwKfH+iq5I7PUOXzwvj6qV0xM87mS7rOM4Fhvqv2Tes5dnQOp6VZOMI1lXRryWi9+JVOlwyDTSjBN9dEKw4Ax4vmdODUNP8uNh3L3Nkuy7w7ViJeGiSnqz2mLY+L32WzVWW80nhFGLkiLLuT4Da/5+KhNQWkox/DbUv7OhpH5r+QPFFqtHkauGgKVwUgyXbxzM3hAACR/2TMHd5ObcCR/9wKpc7QoJ28=\",\\n              \"pow\": j\\n          }));\\n    </script>\\n  </body>\\n</html>\\n                              '"
      ]
     },
     "execution_count": 102,
     "metadata": {},
     "output_type": "execute_result"
    }
   ],
   "source": [
    "# hit using the header\n",
    "webpage = requests.get(\"https://www.ambitionbox.com/list-of-companies?page=1\", headers=header).text\n",
    "webpage"
   ]
  },
  {
   "cell_type": "code",
   "execution_count": 103,
   "metadata": {},
   "outputs": [],
   "source": [
    "# give the webpage to Beautiful Soup using parsers: \"html.parser\" or \"lxml\"\n",
    "soup = BeautifulSoup(webpage, 'html.parser')"
   ]
  },
  {
   "cell_type": "code",
   "execution_count": 104,
   "metadata": {},
   "outputs": [
    {
     "data": {
      "text/plain": [
       "[]"
      ]
     },
     "execution_count": 104,
     "metadata": {},
     "output_type": "execute_result"
    }
   ],
   "source": [
    "soup.find_all(\"div\")\n"
   ]
  },
  {
   "cell_type": "code",
   "execution_count": 105,
   "metadata": {},
   "outputs": [
    {
     "ename": "AttributeError",
     "evalue": "'NoneType' object has no attribute 'find_next'",
     "output_type": "error",
     "traceback": [
      "\u001b[1;31m---------------------------------------------------------------------------\u001b[0m",
      "\u001b[1;31mAttributeError\u001b[0m                            Traceback (most recent call last)",
      "Cell \u001b[1;32mIn[105], line 8\u001b[0m\n\u001b[0;32m      4\u001b[0m r \u001b[39m=\u001b[39m requests\u001b[39m.\u001b[39mget(\u001b[39m'\u001b[39m\u001b[39mhttps://www.kbb.com/vehicles/hub/_costtoown/?vehicleid=415933\u001b[39m\u001b[39m'\u001b[39m)\n\u001b[0;32m      6\u001b[0m html_soup \u001b[39m=\u001b[39m BeautifulSoup(r\u001b[39m.\u001b[39mtext, \u001b[39m'\u001b[39m\u001b[39mhtml.parser\u001b[39m\u001b[39m'\u001b[39m)\n\u001b[1;32m----> 8\u001b[0m Insurance \u001b[39m=\u001b[39m html_soup\u001b[39m.\u001b[39mfind(\u001b[39m'\u001b[39m\u001b[39mdiv\u001b[39m\u001b[39m'\u001b[39m,string\u001b[39m=\u001b[39m\u001b[39m\"\u001b[39m\u001b[39mInsurance\u001b[39m\u001b[39m\"\u001b[39m)\u001b[39m.\u001b[39mfind_next()\u001b[39m.\u001b[39mtext\n\u001b[0;32m     10\u001b[0m \u001b[39mprint\u001b[39m(Insurance)\n",
      "\u001b[1;31mAttributeError\u001b[0m: 'NoneType' object has no attribute 'find_next'"
     ]
    }
   ],
   "source": [
    "import requests\n",
    "from bs4 import BeautifulSoup\n",
    "\n",
    "r = requests.get('https://www.kbb.com/vehicles/hub/_costtoown/?vehicleid=415933')\n",
    "\n",
    "html_soup = BeautifulSoup(r.text, 'html.parser')\n",
    "\n",
    "Insurance = html_soup.find('div',string=\"Insurance\").find_next().text\n",
    "\n",
    "print(Insurance)"
   ]
  },
  {
   "cell_type": "code",
   "execution_count": null,
   "metadata": {},
   "outputs": [],
   "source": []
  }
 ],
 "metadata": {
  "kernelspec": {
   "display_name": "dev1",
   "language": "python",
   "name": "python3"
  },
  "language_info": {
   "codemirror_mode": {
    "name": "ipython",
    "version": 3
   },
   "file_extension": ".py",
   "mimetype": "text/x-python",
   "name": "python",
   "nbconvert_exporter": "python",
   "pygments_lexer": "ipython3",
   "version": "3.11.0"
  },
  "orig_nbformat": 4
 },
 "nbformat": 4,
 "nbformat_minor": 2
}
