{
 "cells": [
  {
   "cell_type": "code",
   "execution_count": 2,
   "metadata": {},
   "outputs": [],
   "source": [
    "import random"
   ]
  },
  {
   "cell_type": "code",
   "execution_count": 5,
   "metadata": {},
   "outputs": [],
   "source": [
    "jackport = random.randint(1,100)"
   ]
  },
  {
   "cell_type": "code",
   "execution_count": 6,
   "metadata": {},
   "outputs": [
    {
     "name": "stdout",
     "output_type": "stream",
     "text": [
      "Guess Higher\n",
      "Guess Higher\n",
      "Guess Higher\n",
      "Guess Higher\n",
      "Guess Lower\n",
      "Guess Lower\n",
      "Guess Lower\n",
      "You are correct and you took  7 attempts.\n"
     ]
    }
   ],
   "source": [
    "guess = int(input(\"Guess a number\"))\n",
    "counter = 0\n",
    "while guess != jackport:\n",
    "    if guess < jackport:\n",
    "        print(\"Guess Higher\")\n",
    "    else:\n",
    "        print(\"Guess Lower\")\n",
    "    guess = int(input(\"Guess again\"))\n",
    "    counter += 1\n",
    "print(\"You are correct and you took \", counter, \"attempts.\")"
   ]
  },
  {
   "attachments": {},
   "cell_type": "markdown",
   "metadata": {},
   "source": [
    "#print pascal's triangle\n"
   ]
  },
  {
   "cell_type": "code",
   "execution_count": 2,
   "metadata": {},
   "outputs": [
    {
     "name": "stdout",
     "output_type": "stream",
     "text": [
      "\n",
      "* \n",
      "* * \n",
      "* * * \n",
      "* * * * \n",
      "* * * * * \n",
      "* * * * * * \n",
      "* * * * * * * \n",
      "* * * * * * * * \n",
      "* * * * * * * * * \n",
      "* * * * * * * * * * \n"
     ]
    }
   ],
   "source": [
    "a = eval(input(\"Enter the number of rows in pascal's triangle\"))\n",
    "for i in range(0,a+1):\n",
    "    for j in range(0,i):\n",
    "        print(\"*\",end=\" \")\n",
    "    print(\"\")"
   ]
  },
  {
   "cell_type": "code",
   "execution_count": 5,
   "metadata": {},
   "outputs": [
    {
     "name": "stdout",
     "output_type": "stream",
     "text": [
      "\n",
      "Please wait a moment while I gather a list of all available modules...\n",
      "\n"
     ]
    },
    {
     "name": "stderr",
     "output_type": "stream",
     "text": [
      "c:\\Users\\anand\\anaconda3\\envs\\dev1\\Lib\\pkgutil.py:92: UserWarning: The numpy.array_api submodule is still experimental. See NEP 47.\n",
      "  __import__(info.name)\n",
      "c:\\Users\\anand\\anaconda3\\envs\\dev1\\Lib\\site-packages\\pandoc\\utils.py:62: UserWarning: \n",
      "Pandoc version 3.1.1 is not supported, we proceed as if pandoc 2.19.2 was used. \n",
      "The behavior of the library is undefined if the document models of these versions differ.\n",
      "  warnings.warn(error)\n",
      "c:\\Users\\anand\\anaconda3\\envs\\dev1\\Lib\\site-packages\\_distutils_hack\\__init__.py:33: UserWarning: Setuptools is replacing distutils.\n",
      "  warnings.warn(\"Setuptools is replacing distutils.\")\n",
      "c:\\Users\\anand\\anaconda3\\envs\\dev1\\Lib\\pkgutil.py:107: VisibleDeprecationWarning: zmq.eventloop.minitornado is deprecated in pyzmq 14.0 and will be removed.\n",
      "    Install tornado itself to use zmq with the tornado IOLoop.\n",
      "    \n",
      "  yield from walk_packages(path, info.name+'.', onerror)\n"
     ]
    },
    {
     "name": "stdout",
     "output_type": "stream",
     "text": [
      "IPython             brotli              missingno           statistics\n",
      "OpenSSL             bs4                 mistune             string\n",
      "PIL                 builtins            mmap                stringprep\n",
      "T1_1_1_LearnPython  bz2                 mmapfile            struct\n",
      "__future__          cProfile            mmsystem            subprocess\n",
      "__hello__           calendar            modulefinder        sunau\n",
      "__phello__          certifi             mpl_toolkits        symtable\n",
      "_abc                cffi                msilib              sys\n",
      "_aix_support        cgi                 msvcrt              sysconfig\n",
      "_argon2_cffi_bindings cgitb               multiprocessing     tabnanny\n",
      "_ast                charset_normalizer  nbclassic           tarfile\n",
      "_asyncio            chunk               nbclient            telnetlib\n",
      "_bisect             cmath               nbconvert           tempfile\n",
      "_blake2             cmd                 nbformat            terminado\n",
      "_bootsubprocess     code                nest_asyncio        test\n",
      "_bz2                codecs              netbios             textwrap\n",
      "_cffi_backend       codeop              netrc               this\n",
      "_codecs             collections         nntplib             threading\n",
      "_codecs_cn          colorama            notebook            threadpoolctl\n",
      "_codecs_hk          colorsys            notebook_shim       time\n",
      "_codecs_iso2022     comm                nt                  timeit\n",
      "_codecs_jp          commctrl            ntpath              timer\n",
      "_codecs_kr          compileall          ntsecuritycon       tinycss2\n",
      "_codecs_tw          concurrent          nturl2path          tkinter\n",
      "_collections        configparser        numbers             token\n",
      "_collections_abc    contextlib          numpy               tokenize\n",
      "_compat_pickle      contextvars         odbc                tomli\n",
      "_compression        contourpy           opcode              tomllib\n",
      "_contextvars        copy                operator            tornado\n",
      "_csv                copyreg             optparse            trace\n",
      "_ctypes             crypt               os                  traceback\n",
      "_ctypes_test        cryptography        packaging           tracemalloc\n",
      "_datetime           csv                 pandas              traitlets\n",
      "_decimal            ctypes              pandoc              tty\n",
      "_distutils_hack     curses              pandocfilters       turtle\n",
      "_elementtree        cycler              parso               turtledemo\n",
      "_functools          dataclasses         pathlib             types\n",
      "_hashlib            datetime            pdb                 typing\n",
      "_heapq              dateutil            perfmon             typing_extensions\n",
      "_imp                dbi                 pickle              unicodedata\n",
      "_io                 dbm                 pickleshare         unittest\n",
      "_json               dde                 pickletools         urllib\n",
      "_locale             debugpy             pip                 urllib3\n",
      "_lsprof             decimal             pipes               uu\n",
      "_lzma               decorator           pkg_resources       uuid\n",
      "_markupbase         defusedxml          pkgutil             venv\n",
      "_md5                difflib             platform            warnings\n",
      "_msi                dis                 platformdirs        wave\n",
      "_multibytecodec     distutils           plistlib            wcwidth\n",
      "_multiprocessing    doctest             plumbum             weakref\n",
      "_opcode             email               ply                 webbrowser\n",
      "_operator           encodings           poplib              webencodings\n",
      "_osx_support        ensurepip           posixpath           websocket\n",
      "_overlapped         entrypoints         pprint              wheel\n",
      "_pickle             enum                profile             win2kras\n",
      "_py_abc             errno               prometheus_client   win32api\n",
      "_pydecimal          executing           prompt_toolkit      win32clipboard\n",
      "_pyio               fastjsonschema      pstats              win32com\n",
      "_pyrsistent_version faulthandler        psutil              win32con\n",
      "_queue              filecmp             pty                 win32console\n",
      "_random             fileinput           pure_eval           win32cred\n",
      "_sha1               flit_core           pvectorc            win32crypt\n",
      "_sha256             fnmatch             py_compile          win32cryptcon\n",
      "_sha3               fontTools           pyclbr              win32event\n",
      "_sha512             fractions           pycparser           win32evtlog\n",
      "_signal             ftplib              pydoc               win32evtlogutil\n",
      "_sitebuiltins       functools           pydoc_data          win32file\n",
      "_socket             gc                  pyexpat             win32gui\n",
      "_sqlite3            genericpath         pygments            win32gui_struct\n",
      "_sre                getopt              pylab               win32help\n",
      "_ssl                getpass             pyparsing           win32inet\n",
      "_stat               gettext             pyrsistent          win32inetcon\n",
      "_statistics         glob                pythoncom           win32job\n",
      "_string             graphlib            pytz                win32lz\n",
      "_strptime           gzip                pywin               win32net\n",
      "_struct             hashlib             pywin32_bootstrap   win32netcon\n",
      "_symtable           heapq               pywin32_testutil    win32pdh\n",
      "_testbuffer         hmac                pywintypes          win32pdhquery\n",
      "_testcapi           html                queue               win32pdhutil\n",
      "_testconsole        http                quopri              win32pipe\n",
      "_testimportmultiple idlelib             random              win32print\n",
      "_testinternalcapi   idna                rasutil             win32process\n",
      "_testmultiphase     imaplib             re                  win32profile\n",
      "_thread             imghdr              regcheck            win32ras\n",
      "_threading_local    imp                 regutil             win32rcparser\n",
      "_tkinter            importlib           reprlib             win32security\n",
      "_tokenize           inspect             requests            win32service\n",
      "_tracemalloc        io                  rlcompleter         win32serviceutil\n",
      "_typing             ipaddress           runpy               win32timezone\n",
      "_uuid               ipykernel           sched               win32trace\n",
      "_warnings           ipykernel_launcher  scipy               win32traceutil\n",
      "_weakref            ipython_genutils    seaborn             win32transaction\n",
      "_weakrefset         isapi               secrets             win32ts\n",
      "_win32sysloader     itertools           select              win32ui\n",
      "_winapi             jedi                selectors           win32uiole\n",
      "_winxptheme         jinja2              send2trash          win32verstamp\n",
      "_xxsubinterpreters  joblib              servicemanager      win32wnet\n",
      "_zoneinfo           json                setuptools          win_inet_pton\n",
      "abc                 json5               shelve              wincertstore\n",
      "adodbapi            jsonschema          shlex               winerror\n",
      "afxres              jupyter             shutil              winioctlcon\n",
      "aifc                jupyter_client      signal              winnt\n",
      "antigravity         jupyter_core        site                winperf\n",
      "anyio               jupyter_server      six                 winpty\n",
      "argon2              jupyterlab          sklearn             winreg\n",
      "argparse            jupyterlab_pygments smtpd               winsound\n",
      "array               jupyterlab_server   smtplib             winxpgui\n",
      "ast                 keyword             sndhdr              winxptheme\n",
      "asttokens           kiwisolver          sniffio             wsgiref\n",
      "asynchat            lib2to3             socket              xdrlib\n",
      "asyncio             linecache           socketserver        xml\n",
      "asyncore            locale              socks               xmlrpc\n",
      "atexit              logging             sockshandler        xxlimited\n",
      "attr                lxml                soupsieve           xxlimited_35\n",
      "attrs               lzma                sqlite3             xxsubtype\n",
      "audioop             mailbox             sre_compile         zipapp\n",
      "babel               mailcap             sre_constants       zipfile\n",
      "backcall            markupsafe          sre_parse           zipimport\n",
      "base64              marshal             ssl                 zlib\n",
      "bdb                 math                sspi                zmq\n",
      "binascii            matplotlib          sspicon             zoneinfo\n",
      "bisect              matplotlib_inline   stack_data          \n",
      "bleach              mimetypes           stat                \n",
      "\n",
      "Enter any module name to get more help.  Or, type \"modules spam\" to search\n",
      "for modules whose name or summary contain the string \"spam\".\n",
      "\n"
     ]
    }
   ],
   "source": [
    "help(\"modules\")"
   ]
  },
  {
   "attachments": {},
   "cell_type": "markdown",
   "metadata": {},
   "source": [
    "Q1. Write a code to find the minimum among three given numbers."
   ]
  },
  {
   "cell_type": "code",
   "execution_count": 9,
   "metadata": {},
   "outputs": [
    {
     "name": "stdout",
     "output_type": "stream",
     "text": [
      "a is greatest in  58 49 12\n"
     ]
    }
   ],
   "source": [
    "a = int(input(\"Enter a number\"))\n",
    "b = int(input(\"Enter a number\"))\n",
    "c = int(input(\"Enter a number\"))\n",
    "if a > b and a > c:\n",
    "    print(\"a is greatest in \",a,b,c)\n",
    "if b > c and b >a:\n",
    "    print(\"b is greatest in \",a,b,c)\n",
    "if c > a and c > b:\n",
    "    print(\"c is greatest in \",a,b,c)"
   ]
  },
  {
   "cell_type": "markdown",
   "metadata": {},
   "source": [
    "Q2. Write a code to check whether a given number is a palindrome."
   ]
  },
  {
   "cell_type": "code",
   "execution_count": 10,
   "metadata": {},
   "outputs": [
    {
     "name": "stdout",
     "output_type": "stream",
     "text": [
      "Its a Pelindrome\n"
     ]
    }
   ],
   "source": [
    "a = input(\"Enter a word\")\n",
    "if a == a[::-1]:\n",
    "    print(\"Its a Pelindrome\")\n",
    "else:\n",
    "    print(\"Not a Pelindrome\")"
   ]
  },
  {
   "cell_type": "markdown",
   "metadata": {},
   "source": [
    "Q3. Write a code to find the sum of numbers divisible by 4.The code must allow the user to accept a number and add it to the sum if it is divisible by 4. It should continue accepting numbers as long as the user wants to provide an input and should display the final sum"
   ]
  },
  {
   "cell_type": "code",
   "execution_count": 11,
   "metadata": {},
   "outputs": [],
   "source": [
    "\n",
    "c = \"yes\"\n",
    "sumof4 = 0\n",
    "while c == \"yes\":\n",
    "    a = int(input(\"Enter a number\"))\n",
    "    if a % 4 == 0:\n",
    "       sumof4 += a\n",
    "    c = input(\"Do you want to continue ? yes or no\")"
   ]
  },
  {
   "cell_type": "markdown",
   "metadata": {},
   "source": [
    "Q4. A three digit number is said to be an “Armstrong number” if the sum of the third power of its individual digits is equal to the number itself.Write a program to check whether a number is armstrong or not"
   ]
  },
  {
   "cell_type": "code",
   "execution_count": 15,
   "metadata": {},
   "outputs": [
    {
     "name": "stdout",
     "output_type": "stream",
     "text": [
      "Not a armstrong\n"
     ]
    }
   ],
   "source": [
    "a = input(\"Enter a 3 digit number\")\n",
    "sum = 0\n",
    "for i in a:\n",
    "    sum += pow(int(i),3)\n",
    "if sum == a:\n",
    "    print(\"Number is armstrong\")\n",
    "else:\n",
    "    print(\"Not a armstrong\")"
   ]
  },
  {
   "cell_type": "code",
   "execution_count": null,
   "metadata": {},
   "outputs": [],
   "source": []
  }
 ],
 "metadata": {
  "kernelspec": {
   "display_name": "dev1",
   "language": "python",
   "name": "python3"
  },
  "language_info": {
   "codemirror_mode": {
    "name": "ipython",
    "version": 3
   },
   "file_extension": ".py",
   "mimetype": "text/x-python",
   "name": "python",
   "nbconvert_exporter": "python",
   "pygments_lexer": "ipython3",
   "version": "3.11.0"
  },
  "orig_nbformat": 4
 },
 "nbformat": 4,
 "nbformat_minor": 2
}
